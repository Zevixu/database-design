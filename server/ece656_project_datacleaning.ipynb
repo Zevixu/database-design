{
 "cells": [
  {
   "cell_type": "markdown",
   "metadata": {},
   "source": [
    "delete duplicates in AIRPORT_COORDINATES.csv,CARRIER_DECODE.csv"
   ]
  },
  {
   "cell_type": "code",
   "execution_count": 2,
   "metadata": {},
   "outputs": [],
   "source": [
    "import pandas as pd\n",
    "\n",
    "df = pd.read_csv(r'C:\\Users\\Administrator\\Desktop\\dataclean\\AIRPORT_COORDINATES.csv').drop_duplicates(subset=['ORIGIN_AIRPORT_ID'],keep='first')\n",
    "file_name = r'C:\\Users\\Administrator\\Desktop\\dataclean\\cleaned_raw_data\\AIRPORT_COORDINATES.csv'\n",
    "df.to_csv(file_name, index=False)"
   ]
  },
  {
   "cell_type": "code",
   "execution_count": 3,
   "metadata": {},
   "outputs": [],
   "source": [
    "df = pd.read_csv(r'C:\\Users\\Administrator\\Desktop\\dataclean\\CARRIER_DECODE.csv').drop_duplicates(keep='first')\n",
    "file_name = r'C:\\Users\\Administrator\\Desktop\\dataclean\\cleaned_raw_data\\CARRIER_DECODE.csv'\n",
    "df.to_csv(file_name, index=False)"
   ]
  },
  {
   "cell_type": "markdown",
   "metadata": {},
   "source": [
    "delete the airports in AIRPORT_COORDINATES.csv whose info is not in airports_list.csv"
   ]
  },
  {
   "cell_type": "code",
   "execution_count": 14,
   "metadata": {},
   "outputs": [],
   "source": [
    "import numpy as np\n",
    "\n",
    "df_airport_list=pd.read_csv(r'C:\\Users\\Administrator\\Desktop\\dataclean\\airports_list.csv').iloc[:,0]\n",
    "df_airport_coor= pd.read_csv(r'C:\\Users\\Administrator\\Desktop\\dataclean\\cleaned_raw_data\\AIRPORT_COORDINATES.csv')\n",
    "\n",
    "df_airport_list_array=np.array(df_airport_list)\n",
    "airlist=df_airport_list_array.tolist()\n",
    "\n",
    "df_airport_coor=df_airport_coor[df_airport_coor['ORIGIN_AIRPORT_ID'].isin(airlist)]\n",
    "\n",
    "file_name=r'C:\\Users\\Administrator\\Desktop\\dataclean\\cleaned_raw_data\\AIRPORT_COORDINATES.csv'\n",
    "df_airport_coor.to_csv(file_name, index=False)"
   ]
  },
  {
   "cell_type": "markdown",
   "metadata": {},
   "source": [
    "combine tables"
   ]
  },
  {
   "cell_type": "code",
   "execution_count": 15,
   "metadata": {},
   "outputs": [],
   "source": [
    "airweather1=pd.read_csv(r'C:\\Users\\Administrator\\Desktop\\dataclean\\airport_weather_2019.csv')\n",
    "airweather2=pd.read_csv(r'C:\\Users\\Administrator\\Desktop\\dataclean\\airport_weather_2020.csv')\n",
    "airweather=pd.concat([airweather1,airweather2],axis=0,ignore_index=True)\n",
    "file_name=r'C:\\Users\\Administrator\\Desktop\\dataclean\\cleaned_raw_data\\airport_weather.csv'\n",
    "airweather.to_csv(file_name,index=False)"
   ]
  },
  {
   "cell_type": "code",
   "execution_count": 17,
   "metadata": {},
   "outputs": [
    {
     "name": "stderr",
     "output_type": "stream",
     "text": [
      "C:\\anaconda\\lib\\site-packages\\IPython\\core\\interactiveshell.py:3146: DtypeWarning: Columns (22) have mixed types.Specify dtype option on import or set low_memory=False.\n",
      "  has_raised = await self.run_ast_nodes(code_ast.body, cell_name,\n"
     ]
    }
   ],
   "source": [
    "report1=pd.read_csv(r'C:\\Users\\Administrator\\Desktop\\dataclean\\ONTIME_REPORTING_01.csv')\n",
    "report2=pd.read_csv(r'C:\\Users\\Administrator\\Desktop\\dataclean\\ONTIME_REPORTING_02.csv')\n",
    "report3=pd.read_csv(r'C:\\Users\\Administrator\\Desktop\\dataclean\\ONTIME_REPORTING_03.csv')\n",
    "report4=pd.read_csv(r'C:\\Users\\Administrator\\Desktop\\dataclean\\ONTIME_REPORTING_04.csv')\n",
    "report5=pd.read_csv(r'C:\\Users\\Administrator\\Desktop\\dataclean\\ONTIME_REPORTING_05.csv')\n",
    "report6=pd.read_csv(r'C:\\Users\\Administrator\\Desktop\\dataclean\\ONTIME_REPORTING_06.csv')\n",
    "report7=pd.read_csv(r'C:\\Users\\Administrator\\Desktop\\dataclean\\ONTIME_REPORTING_07.csv')\n",
    "report8=pd.read_csv(r'C:\\Users\\Administrator\\Desktop\\dataclean\\ONTIME_REPORTING_08.csv')\n",
    "report9=pd.read_csv(r'C:\\Users\\Administrator\\Desktop\\dataclean\\ONTIME_REPORTING_09.csv')\n",
    "report10=pd.read_csv(r'C:\\Users\\Administrator\\Desktop\\dataclean\\ONTIME_REPORTING_10.csv')\n",
    "report11=pd.read_csv(r'C:\\Users\\Administrator\\Desktop\\dataclean\\ONTIME_REPORTING_11.csv')\n",
    "report12=pd.read_csv(r'C:\\Users\\Administrator\\Desktop\\dataclean\\ONTIME_REPORTING_12.csv')\n",
    "\n",
    "\n",
    "report=pd.concat([report1,report2,report3,report4,report5,report6,report7,report8,report9,report10,report11,report12],axis=0,ignore_index=True)\n",
    "file_name=r'C:\\Users\\Administrator\\Desktop\\dataclean\\cleaned_raw_data\\ONTIME_REPORTING.csv'\n",
    "report.to_csv(file_name,index=False)"
   ]
  },
  {
   "cell_type": "code",
   "execution_count": 18,
   "metadata": {},
   "outputs": [],
   "source": [
    "carrier_airport1=pd.read_csv(r'C:\\Users\\Administrator\\Desktop\\dataclean\\T3_AIR_CARRIER_SUMMARY_AIRPORT_ACTIVITY_2019.csv')\n",
    "carrier_airport2=pd.read_csv(r'C:\\Users\\Administrator\\Desktop\\dataclean\\T3_AIR_CARRIER_SUMMARY_AIRPORT_ACTIVITY_2020.csv')\n",
    "carrier_airport=pd.concat([carrier_airport1,carrier_airport2],axis=0,ignore_index=True)\n",
    "file_name=r'C:\\Users\\Administrator\\Desktop\\dataclean\\cleaned_raw_data\\T3_AIR_CARRIER_SUMMARY_AIRPORT_ACTIVITY.csv'\n",
    "carrier_airport.to_csv(file_name,index=False)"
   ]
  },
  {
   "cell_type": "markdown",
   "metadata": {},
   "source": [
    "combine the date in T3_AIR_CARRIER_SUMMARY_AIRPORT_ACTIVITY.csv with the same OP_UNIQUE_CARRIER\\CARRIER_NAME\\ORIGIN_AIRPORT_ID\\ SERVICE_CLASS"
   ]
  },
  {
   "cell_type": "code",
   "execution_count": 34,
   "metadata": {},
   "outputs": [],
   "source": [
    "group=carrier_airport.groupby(['OP_UNIQUE_CARRIER','CARRIER_NAME','ORIGIN_AIRPORT_ID','SERVICE_CLASS'],as_index=False).sum()\n",
    "group.head()\n",
    "file_name=r'C:\\Users\\Administrator\\Desktop\\dataclean\\cleaned_raw_data\\grouped_T3_AIR_CARRIER_SUMMARY_AIRPORT_ACTIVITY.csv'\n",
    "group.to_csv(file_name,index=False)"
   ]
  },
  {
   "cell_type": "code",
   "execution_count": 14,
   "metadata": {},
   "outputs": [
    {
     "data": {
      "text/html": [
       "<div>\n",
       "<style scoped>\n",
       "    .dataframe tbody tr th:only-of-type {\n",
       "        vertical-align: middle;\n",
       "    }\n",
       "\n",
       "    .dataframe tbody tr th {\n",
       "        vertical-align: top;\n",
       "    }\n",
       "\n",
       "    .dataframe thead th {\n",
       "        text-align: right;\n",
       "    }\n",
       "</style>\n",
       "<table border=\"1\" class=\"dataframe\">\n",
       "  <thead>\n",
       "    <tr style=\"text-align: right;\">\n",
       "      <th></th>\n",
       "      <th>ORIGIN_AIRPORT_ID</th>\n",
       "      <th>STATION</th>\n",
       "      <th>DATE</th>\n",
       "      <th>AWND</th>\n",
       "      <th>PGTM</th>\n",
       "      <th>PRCP</th>\n",
       "      <th>SNOW</th>\n",
       "      <th>SNWD</th>\n",
       "      <th>TAVG</th>\n",
       "      <th>TMAX</th>\n",
       "      <th>...</th>\n",
       "      <th>WT09</th>\n",
       "      <th>WESD</th>\n",
       "      <th>WT10</th>\n",
       "      <th>PSUN</th>\n",
       "      <th>TSUN</th>\n",
       "      <th>SN32</th>\n",
       "      <th>SX32</th>\n",
       "      <th>TOBS</th>\n",
       "      <th>WT11</th>\n",
       "      <th>WT18</th>\n",
       "    </tr>\n",
       "  </thead>\n",
       "  <tbody>\n",
       "    <tr>\n",
       "      <th>0</th>\n",
       "      <td>10397.0</td>\n",
       "      <td>USW00013874</td>\n",
       "      <td>1/1/2019</td>\n",
       "      <td>4.70</td>\n",
       "      <td>NaN</td>\n",
       "      <td>0.14</td>\n",
       "      <td>0.0</td>\n",
       "      <td>0.0</td>\n",
       "      <td>64.0</td>\n",
       "      <td>66.0</td>\n",
       "      <td>...</td>\n",
       "      <td>NaN</td>\n",
       "      <td>NaN</td>\n",
       "      <td>NaN</td>\n",
       "      <td>NaN</td>\n",
       "      <td>NaN</td>\n",
       "      <td>NaN</td>\n",
       "      <td>NaN</td>\n",
       "      <td>NaN</td>\n",
       "      <td>NaN</td>\n",
       "      <td>NaN</td>\n",
       "    </tr>\n",
       "    <tr>\n",
       "      <th>1</th>\n",
       "      <td>10397.0</td>\n",
       "      <td>USW00013874</td>\n",
       "      <td>1/2/2019</td>\n",
       "      <td>4.92</td>\n",
       "      <td>NaN</td>\n",
       "      <td>0.57</td>\n",
       "      <td>0.0</td>\n",
       "      <td>0.0</td>\n",
       "      <td>56.0</td>\n",
       "      <td>59.0</td>\n",
       "      <td>...</td>\n",
       "      <td>NaN</td>\n",
       "      <td>NaN</td>\n",
       "      <td>NaN</td>\n",
       "      <td>NaN</td>\n",
       "      <td>NaN</td>\n",
       "      <td>NaN</td>\n",
       "      <td>NaN</td>\n",
       "      <td>NaN</td>\n",
       "      <td>NaN</td>\n",
       "      <td>NaN</td>\n",
       "    </tr>\n",
       "    <tr>\n",
       "      <th>2</th>\n",
       "      <td>10397.0</td>\n",
       "      <td>USW00013874</td>\n",
       "      <td>1/3/2019</td>\n",
       "      <td>5.37</td>\n",
       "      <td>NaN</td>\n",
       "      <td>0.15</td>\n",
       "      <td>0.0</td>\n",
       "      <td>0.0</td>\n",
       "      <td>52.0</td>\n",
       "      <td>55.0</td>\n",
       "      <td>...</td>\n",
       "      <td>NaN</td>\n",
       "      <td>NaN</td>\n",
       "      <td>NaN</td>\n",
       "      <td>NaN</td>\n",
       "      <td>NaN</td>\n",
       "      <td>NaN</td>\n",
       "      <td>NaN</td>\n",
       "      <td>NaN</td>\n",
       "      <td>NaN</td>\n",
       "      <td>NaN</td>\n",
       "    </tr>\n",
       "    <tr>\n",
       "      <th>3</th>\n",
       "      <td>10397.0</td>\n",
       "      <td>USW00013874</td>\n",
       "      <td>1/4/2019</td>\n",
       "      <td>12.08</td>\n",
       "      <td>NaN</td>\n",
       "      <td>1.44</td>\n",
       "      <td>0.0</td>\n",
       "      <td>0.0</td>\n",
       "      <td>56.0</td>\n",
       "      <td>66.0</td>\n",
       "      <td>...</td>\n",
       "      <td>NaN</td>\n",
       "      <td>NaN</td>\n",
       "      <td>NaN</td>\n",
       "      <td>NaN</td>\n",
       "      <td>NaN</td>\n",
       "      <td>NaN</td>\n",
       "      <td>NaN</td>\n",
       "      <td>NaN</td>\n",
       "      <td>NaN</td>\n",
       "      <td>NaN</td>\n",
       "    </tr>\n",
       "    <tr>\n",
       "      <th>4</th>\n",
       "      <td>10397.0</td>\n",
       "      <td>USW00013874</td>\n",
       "      <td>1/5/2019</td>\n",
       "      <td>13.42</td>\n",
       "      <td>NaN</td>\n",
       "      <td>0.00</td>\n",
       "      <td>0.0</td>\n",
       "      <td>0.0</td>\n",
       "      <td>49.0</td>\n",
       "      <td>59.0</td>\n",
       "      <td>...</td>\n",
       "      <td>NaN</td>\n",
       "      <td>NaN</td>\n",
       "      <td>NaN</td>\n",
       "      <td>NaN</td>\n",
       "      <td>NaN</td>\n",
       "      <td>NaN</td>\n",
       "      <td>NaN</td>\n",
       "      <td>NaN</td>\n",
       "      <td>NaN</td>\n",
       "      <td>NaN</td>\n",
       "    </tr>\n",
       "  </tbody>\n",
       "</table>\n",
       "<p>5 rows × 33 columns</p>\n",
       "</div>"
      ],
      "text/plain": [
       "   ORIGIN_AIRPORT_ID      STATION      DATE   AWND  PGTM  PRCP  SNOW  SNWD  \\\n",
       "0            10397.0  USW00013874  1/1/2019   4.70   NaN  0.14   0.0   0.0   \n",
       "1            10397.0  USW00013874  1/2/2019   4.92   NaN  0.57   0.0   0.0   \n",
       "2            10397.0  USW00013874  1/3/2019   5.37   NaN  0.15   0.0   0.0   \n",
       "3            10397.0  USW00013874  1/4/2019  12.08   NaN  1.44   0.0   0.0   \n",
       "4            10397.0  USW00013874  1/5/2019  13.42   NaN  0.00   0.0   0.0   \n",
       "\n",
       "   TAVG  TMAX  ...  WT09  WESD  WT10  PSUN  TSUN  SN32  SX32  TOBS  WT11  WT18  \n",
       "0  64.0  66.0  ...   NaN   NaN   NaN   NaN   NaN   NaN   NaN   NaN   NaN   NaN  \n",
       "1  56.0  59.0  ...   NaN   NaN   NaN   NaN   NaN   NaN   NaN   NaN   NaN   NaN  \n",
       "2  52.0  55.0  ...   NaN   NaN   NaN   NaN   NaN   NaN   NaN   NaN   NaN   NaN  \n",
       "3  56.0  66.0  ...   NaN   NaN   NaN   NaN   NaN   NaN   NaN   NaN   NaN   NaN  \n",
       "4  49.0  59.0  ...   NaN   NaN   NaN   NaN   NaN   NaN   NaN   NaN   NaN   NaN  \n",
       "\n",
       "[5 rows x 33 columns]"
      ]
     },
     "execution_count": 14,
     "metadata": {},
     "output_type": "execute_result"
    }
   ],
   "source": [
    "import pandas as pd\n",
    "\n",
    "airportlist=pd.read_csv(r'C:\\Users\\Administrator\\Desktop\\dataclean\\cleaned_raw_data\\airports_list.csv')\n",
    "m1=airportlist['NAME'].tolist()\n",
    "m2=airportlist['ORIGIN_AIRPORT_ID'].tolist()\n",
    "airport_name_id={}\n",
    "for x in range(len(m1)):\n",
    "    airport_name_id[m1[x]]=m2[x]\n",
    "\n",
    "airport_weather=pd.read_csv(r'C:\\Users\\Administrator\\Desktop\\dataclean\\cleaned_raw_data\\airport_weather.csv')\n",
    "col_name=airport_weather.columns.tolist()\n",
    "col_name.insert(0,'ORIGIN_AIRPORT_ID')\n",
    "airport_weather=airport_weather.reindex(columns=col_name)\n",
    "\n",
    "#delete the airports in ariport_weather.csv whose info is not in airports_list.csv\n",
    "airport_weather=airport_weather[airport_weather['NAME'].isin(m1)] \n",
    "\n",
    "for i in range(len(airport_weather)):\n",
    "    airid=int(airport_name_id[airport_weather.iloc[i,2]])\n",
    "    airport_weather.iloc[i,0]=airid\n",
    "airport_weather.drop('NAME',axis = 1,inplace = True)"
   ]
  },
  {
   "cell_type": "code",
   "execution_count": 16,
   "metadata": {},
   "outputs": [],
   "source": [
    "airport_weather[airport_weather.columns[0]]=airport_weather[airport_weather.columns[0]].astype('int')\n",
    "file_name=r'C:\\Users\\Administrator\\Desktop\\dataclean\\cleaned_raw_data\\airport_weather.csv'\n",
    "airport_weather.to_csv(file_name,index=False)"
   ]
  }
 ],
 "metadata": {
  "kernelspec": {
   "display_name": "Python [conda env:Anaconda]",
   "language": "python",
   "name": "conda-env-Anaconda-py"
  },
  "language_info": {
   "codemirror_mode": {
    "name": "ipython",
    "version": 3
   },
   "file_extension": ".py",
   "mimetype": "text/x-python",
   "name": "python",
   "nbconvert_exporter": "python",
   "pygments_lexer": "ipython3",
   "version": "3.8.5"
  }
 },
 "nbformat": 4,
 "nbformat_minor": 4
}
